{
 "cells": [
  {
   "cell_type": "code",
   "execution_count": null,
   "id": "f1ae14f7",
   "metadata": {},
   "outputs": [
    {
     "name": "stdout",
     "output_type": "stream",
     "text": [
      "[5, 4, 3, 3, 2, 2, 1]\n"
     ]
    }
   ],
   "source": [
    "n = list(map(int, input().split()))\n",
    "n.sort()\n",
    "n.reverse()\n",
    "print(n)"
   ]
  },
  {
   "cell_type": "code",
   "execution_count": 5,
   "id": "50eb540a",
   "metadata": {},
   "outputs": [
    {
     "name": "stdout",
     "output_type": "stream",
     "text": [
      "[1, 3, 4, 5, 6] <class 'list'>\n",
      "(1, 3, 4, 5, 6) <class 'tuple'>\n",
      "{1, 3, 4, 5, 6} <class 'set'>\n"
     ]
    }
   ],
   "source": [
    "n_list = list(map(int, input().split()))\n",
    "n_tuple = tuple(n_list)\n",
    "n_set = set(n_list)\n",
    "print(n_list, type(n_list))\n",
    "print(n_tuple, type(n_tuple))\n",
    "print(n_set, type(n_set))"
   ]
  },
  {
   "cell_type": "code",
   "execution_count": 6,
   "id": "92af4b10",
   "metadata": {},
   "outputs": [
    {
     "name": "stdout",
     "output_type": "stream",
     "text": [
      "{'장성주': [16, '영남중학교']}\n",
      "{'장성주': [17, '영남중학교']}\n"
     ]
    }
   ],
   "source": [
    "dic = {}\n",
    "dic['장성주'] = [16, \"영남중학교\"]\n",
    "print(dic)\n",
    "dic['장성주'][0] += 1\n",
    "print(dic)"
   ]
  }
 ],
 "metadata": {
  "kernelspec": {
   "display_name": ".venv",
   "language": "python",
   "name": "python3"
  },
  "language_info": {
   "codemirror_mode": {
    "name": "ipython",
    "version": 3
   },
   "file_extension": ".py",
   "mimetype": "text/x-python",
   "name": "python",
   "nbconvert_exporter": "python",
   "pygments_lexer": "ipython3",
   "version": "3.11.8"
  }
 },
 "nbformat": 4,
 "nbformat_minor": 5
}
